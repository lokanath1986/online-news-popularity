{
 "cells": [
  {
   "cell_type": "code",
   "execution_count": 1,
   "metadata": {},
   "outputs": [
    {
     "name": "stderr",
     "output_type": "stream",
     "text": [
      "/Users/peternagy/anaconda/lib/python3.6/site-packages/h5py/__init__.py:36: FutureWarning: Conversion of the second argument of issubdtype from `float` to `np.floating` is deprecated. In future, it will be treated as `np.float64 == np.dtype(float).type`.\n",
      "  from ._conv import register_converters as _register_converters\n",
      "Using TensorFlow backend.\n",
      "/Users/peternagy/anaconda/lib/python3.6/importlib/_bootstrap.py:219: RuntimeWarning: compiletime version 3.5 of module 'tensorflow.python.framework.fast_tensor_util' does not match runtime version 3.6\n",
      "  return f(*args, **kwds)\n"
     ]
    }
   ],
   "source": [
    "import numpy as np\n",
    "import pandas as pd\n",
    "from keras.layers import Dense, Embedding, LSTM, SpatialDropout1D, BatchNormalization, Flatten, Dropout, Merge\n",
    "from keras.optimizers import SGD\n",
    "from keras.models import Sequential\n",
    "from sklearn.feature_extraction.text import CountVectorizer\n",
    "from keras.preprocessing.text import Tokenizer\n",
    "from keras.preprocessing.sequence import pad_sequences\n",
    "from sklearn.model_selection import train_test_split\n",
    "from keras.utils.np_utils import to_categorical\n",
    "from keras.callbacks import EarlyStopping\n",
    "from sklearn.utils import class_weight\n",
    "import os\n",
    "import matplotlib\n",
    "import matplotlib.pyplot as pl"
   ]
  },
  {
   "cell_type": "code",
   "execution_count": 2,
   "metadata": {},
   "outputs": [],
   "source": [
    "cols = ['url', ' title_sentiment_polarity', ' n_tokens_title', ' data_channel_is_lifestyle', ' data_channel_is_entertainment', ' data_channel_is_bus', ' data_channel_is_socmed', ' data_channel_is_tech', ' data_channel_is_world', ' weekday_is_monday', ' weekday_is_tuesday', ' weekday_is_wednesday', ' weekday_is_thursday', ' weekday_is_friday', ' weekday_is_saturday', ' weekday_is_sunday', ' is_weekend', ' global_sentiment_polarity', ' shares']\n",
    "cols2= ['url', ' shares',' rate_positive_words',' rate_negative_words',' title_subjectivity',' title_sentiment_polarity',' abs_title_subjectivity',' abs_title_sentiment_polarity',' is_weekend']\n",
    "raw_data = pd.read_csv('data/OnlineNewsPopularity.csv', usecols=cols2)\n",
    "content_data = pd.read_csv('data/content.csv')"
   ]
  },
  {
   "cell_type": "code",
   "execution_count": 3,
   "metadata": {},
   "outputs": [],
   "source": [
    "def makeHTTP(url):\n",
    "    return url.replace('https', 'http').replace('\\n','')\n",
    "\n",
    "content_data['url'] = content_data['url'].apply(makeHTTP)"
   ]
  },
  {
   "cell_type": "code",
   "execution_count": 4,
   "metadata": {},
   "outputs": [],
   "source": [
    "raw_data = raw_data.merge(content_data, on='url')\n"
   ]
  },
  {
   "cell_type": "code",
   "execution_count": 5,
   "metadata": {},
   "outputs": [],
   "source": [
    "raw_data.drop('Unnamed: 0', axis=1, inplace=True)"
   ]
  },
  {
   "cell_type": "code",
   "execution_count": 6,
   "metadata": {},
   "outputs": [],
   "source": [
    "def parseUrl(url):\n",
    "    if url == \"\":\n",
    "        return np.nan\n",
    "    parts = url.split('/')\n",
    "    title_parts = parts[-2].split('-')\n",
    "    return ' '.join(title_parts)"
   ]
  },
  {
   "cell_type": "code",
   "execution_count": 7,
   "metadata": {},
   "outputs": [
    {
     "data": {
      "text/html": [
       "<div>\n",
       "<style scoped>\n",
       "    .dataframe tbody tr th:only-of-type {\n",
       "        vertical-align: middle;\n",
       "    }\n",
       "\n",
       "    .dataframe tbody tr th {\n",
       "        vertical-align: top;\n",
       "    }\n",
       "\n",
       "    .dataframe thead th {\n",
       "        text-align: right;\n",
       "    }\n",
       "</style>\n",
       "<table border=\"1\" class=\"dataframe\">\n",
       "  <thead>\n",
       "    <tr style=\"text-align: right;\">\n",
       "      <th></th>\n",
       "      <th>url</th>\n",
       "      <th>is_weekend</th>\n",
       "      <th>rate_positive_words</th>\n",
       "      <th>rate_negative_words</th>\n",
       "      <th>title_subjectivity</th>\n",
       "      <th>title_sentiment_polarity</th>\n",
       "      <th>abs_title_subjectivity</th>\n",
       "      <th>abs_title_sentiment_polarity</th>\n",
       "      <th>shares</th>\n",
       "      <th>filtered</th>\n",
       "      <th>title</th>\n",
       "    </tr>\n",
       "  </thead>\n",
       "  <tbody>\n",
       "    <tr>\n",
       "      <th>0</th>\n",
       "      <td>http://mashable.com/2013/01/07/amazon-instant-...</td>\n",
       "      <td>0.0</td>\n",
       "      <td>0.769231</td>\n",
       "      <td>0.230769</td>\n",
       "      <td>0.500000</td>\n",
       "      <td>-0.187500</td>\n",
       "      <td>0.000000</td>\n",
       "      <td>0.187500</td>\n",
       "      <td>593</td>\n",
       "      <td>Having trouble finding something to watch on A...</td>\n",
       "      <td>amazon instant video browser</td>\n",
       "    </tr>\n",
       "    <tr>\n",
       "      <th>1</th>\n",
       "      <td>http://mashable.com/2013/01/07/ap-samsung-spon...</td>\n",
       "      <td>0.0</td>\n",
       "      <td>0.733333</td>\n",
       "      <td>0.266667</td>\n",
       "      <td>0.000000</td>\n",
       "      <td>0.000000</td>\n",
       "      <td>0.500000</td>\n",
       "      <td>0.000000</td>\n",
       "      <td>711</td>\n",
       "      <td>The Associated Press is the latest news organi...</td>\n",
       "      <td>ap samsung sponsored tweets</td>\n",
       "    </tr>\n",
       "    <tr>\n",
       "      <th>2</th>\n",
       "      <td>http://mashable.com/2013/01/07/apple-40-billio...</td>\n",
       "      <td>0.0</td>\n",
       "      <td>0.857143</td>\n",
       "      <td>0.142857</td>\n",
       "      <td>0.000000</td>\n",
       "      <td>0.000000</td>\n",
       "      <td>0.500000</td>\n",
       "      <td>0.000000</td>\n",
       "      <td>1500</td>\n",
       "      <td>It looks like 2012 was a pretty good year for ...</td>\n",
       "      <td>apple 40 billion app downloads</td>\n",
       "    </tr>\n",
       "    <tr>\n",
       "      <th>3</th>\n",
       "      <td>http://mashable.com/2013/01/07/astronaut-notre...</td>\n",
       "      <td>0.0</td>\n",
       "      <td>0.666667</td>\n",
       "      <td>0.333333</td>\n",
       "      <td>0.000000</td>\n",
       "      <td>0.000000</td>\n",
       "      <td>0.500000</td>\n",
       "      <td>0.000000</td>\n",
       "      <td>1200</td>\n",
       "      <td>When it comes to college football, NASA astron...</td>\n",
       "      <td>astronaut notre dame bcs</td>\n",
       "    </tr>\n",
       "    <tr>\n",
       "      <th>4</th>\n",
       "      <td>http://mashable.com/2013/01/07/att-u-verse-apps/</td>\n",
       "      <td>0.0</td>\n",
       "      <td>0.860215</td>\n",
       "      <td>0.139785</td>\n",
       "      <td>0.454545</td>\n",
       "      <td>0.136364</td>\n",
       "      <td>0.045455</td>\n",
       "      <td>0.136364</td>\n",
       "      <td>505</td>\n",
       "      <td>LAS VEGAS — Sharing photos and videos on your ...</td>\n",
       "      <td>att u verse apps</td>\n",
       "    </tr>\n",
       "  </tbody>\n",
       "</table>\n",
       "</div>"
      ],
      "text/plain": [
       "                                                 url   is_weekend  \\\n",
       "0  http://mashable.com/2013/01/07/amazon-instant-...          0.0   \n",
       "1  http://mashable.com/2013/01/07/ap-samsung-spon...          0.0   \n",
       "2  http://mashable.com/2013/01/07/apple-40-billio...          0.0   \n",
       "3  http://mashable.com/2013/01/07/astronaut-notre...          0.0   \n",
       "4   http://mashable.com/2013/01/07/att-u-verse-apps/          0.0   \n",
       "\n",
       "    rate_positive_words   rate_negative_words   title_subjectivity  \\\n",
       "0              0.769231              0.230769             0.500000   \n",
       "1              0.733333              0.266667             0.000000   \n",
       "2              0.857143              0.142857             0.000000   \n",
       "3              0.666667              0.333333             0.000000   \n",
       "4              0.860215              0.139785             0.454545   \n",
       "\n",
       "    title_sentiment_polarity   abs_title_subjectivity  \\\n",
       "0                  -0.187500                 0.000000   \n",
       "1                   0.000000                 0.500000   \n",
       "2                   0.000000                 0.500000   \n",
       "3                   0.000000                 0.500000   \n",
       "4                   0.136364                 0.045455   \n",
       "\n",
       "    abs_title_sentiment_polarity   shares  \\\n",
       "0                       0.187500      593   \n",
       "1                       0.000000      711   \n",
       "2                       0.000000     1500   \n",
       "3                       0.000000     1200   \n",
       "4                       0.136364      505   \n",
       "\n",
       "                                            filtered  \\\n",
       "0  Having trouble finding something to watch on A...   \n",
       "1  The Associated Press is the latest news organi...   \n",
       "2  It looks like 2012 was a pretty good year for ...   \n",
       "3  When it comes to college football, NASA astron...   \n",
       "4  LAS VEGAS — Sharing photos and videos on your ...   \n",
       "\n",
       "                            title  \n",
       "0    amazon instant video browser  \n",
       "1     ap samsung sponsored tweets  \n",
       "2  apple 40 billion app downloads  \n",
       "3        astronaut notre dame bcs  \n",
       "4                att u verse apps  "
      ]
     },
     "execution_count": 7,
     "metadata": {},
     "output_type": "execute_result"
    }
   ],
   "source": [
    "raw_data['title'] = raw_data.url.apply(parseUrl)"
   ]
  },
  {
   "cell_type": "code",
   "execution_count": 8,
   "metadata": {},
   "outputs": [],
   "source": [
    "def categorizeShares(shares):\n",
    "    if shares <= 900:\n",
    "        return 0        #few\n",
    "    if shares <= 1200:\n",
    "        return 1        #modest\n",
    "    if shares <= 1800:\n",
    "        return 2        #lot\n",
    "    if shares <= 3500:\n",
    "        return 3       #popular\n",
    "    return 4           #worldwide"
   ]
  },
  {
   "cell_type": "code",
   "execution_count": 9,
   "metadata": {},
   "outputs": [
    {
     "data": {
      "text/plain": [
       "0    8668\n",
       "1    8014\n",
       "2    7663\n",
       "3    7620\n",
       "4    7528\n",
       "Name: label, dtype: int64"
      ]
     },
     "execution_count": 9,
     "metadata": {},
     "output_type": "execute_result"
    }
   ],
   "source": [
    "raw_data['label'] = raw_data[' shares'].apply(categorizeShares)\n",
    "raw_data['label'].value_counts()"
   ]
  },
  {
   "cell_type": "code",
   "execution_count": 10,
   "metadata": {},
   "outputs": [
    {
     "data": {
      "text/plain": [
       "39493"
      ]
     },
     "execution_count": 10,
     "metadata": {},
     "output_type": "execute_result"
    }
   ],
   "source": [
    "len(raw_data)"
   ]
  },
  {
   "cell_type": "code",
   "execution_count": 11,
   "metadata": {},
   "outputs": [],
   "source": [
    "raw_data = raw_data.reindex(np.random.permutation(raw_data.index))"
   ]
  },
  {
   "cell_type": "code",
   "execution_count": 12,
   "metadata": {},
   "outputs": [
    {
     "name": "stdout",
     "output_type": "stream",
     "text": [
      "39493 39493\n"
     ]
    }
   ],
   "source": [
    "lstm1 = raw_data['title']\n",
    "lstm2 = raw_data['filtered']\n",
    "print(len(lstm1), len(lstm2))\n",
    "if 'title' in raw_data.keys():\n",
    "    raw_data.drop(['title'], axis=1, inplace=True)\n",
    "if 'filtered' in raw_data.keys():\n",
    "    raw_data.drop(['filtered'], axis=1, inplace=True)"
   ]
  },
  {
   "cell_type": "code",
   "execution_count": 13,
   "metadata": {},
   "outputs": [
    {
     "name": "stdout",
     "output_type": "stream",
     "text": [
      "Found 20160 unique tokens.\n",
      "Found 374091 unique tokens.\n"
     ]
    }
   ],
   "source": [
    "max_len_1 = 150\n",
    "emb_dim_1 = 100\n",
    "n_most_common_words_1 = 2000\n",
    "tokenizer = Tokenizer(num_words=n_most_common_words_1, filters='!\"#$%&()*+,-./:;<=>?@[\\]^_`{|}~', lower=True)\n",
    "tokenizer.fit_on_texts(lstm1.values)\n",
    "sequences = tokenizer.texts_to_sequences(lstm1.values)\n",
    "word_index = tokenizer.word_index\n",
    "print('Found %s unique tokens.' % len(word_index))\n",
    "lstm_1X = pad_sequences(sequences, maxlen=max_len_1)\n",
    "\n",
    "lstm2 = lstm2.fillna('')\n",
    "\n",
    "max_len_2 = 150\n",
    "emb_dim_2 = 100\n",
    "n_most_common_words_2 = 5000\n",
    "tokenizer = Tokenizer(num_words=n_most_common_words_2, filters='!\"#$%&()*+,-./:;<=>?@[\\]^_`{|}~', lower=True)\n",
    "tokenizer.fit_on_texts(lstm2.values)\n",
    "sequences = tokenizer.texts_to_sequences(lstm2.values)\n",
    "word_index = tokenizer.word_index\n",
    "print('Found %s unique tokens.' % len(word_index))\n",
    "lstm_2X = pad_sequences(sequences, maxlen=max_len_2)\n"
   ]
  },
  {
   "cell_type": "code",
   "execution_count": 14,
   "metadata": {},
   "outputs": [
    {
     "name": "stdout",
     "output_type": "stream",
     "text": [
      "39493\n"
     ]
    }
   ],
   "source": [
    "labels = to_categorical(raw_data['label'], num_classes=5)\n",
    "print(len(labels))\n",
    "if 'label' in raw_data.keys():\n",
    "    raw_data.drop(['label'], axis=1, inplace=True)\n",
    "if ' shares' in raw_data.keys():\n",
    "    raw_data.drop([' shares'], axis=1, inplace=True)"
   ]
  },
  {
   "cell_type": "code",
   "execution_count": 15,
   "metadata": {},
   "outputs": [
    {
     "name": "stdout",
     "output_type": "stream",
     "text": [
      " is_weekend 0.013818951535281633\n",
      " rate_positive_words 0.10833505040827059\n",
      " rate_negative_words 0.1096796191669256\n",
      " title_subjectivity 0.11557355816469583\n",
      " title_sentiment_polarity 0.12181038433772362\n",
      " abs_title_subjectivity 0.2626053279119466\n",
      " abs_title_sentiment_polarity 0.2681771084751562\n"
     ]
    }
   ],
   "source": [
    "from sklearn.tree import DecisionTreeClassifier\n",
    "if 'url' in raw_data.keys():\n",
    "    raw_data.drop(['url'], axis=1, inplace=True)\n",
    "\n",
    "\n",
    "classifier = DecisionTreeClassifier()\n",
    "classifier.fit(raw_data, labels)\n",
    "\n",
    "for name, importance in zip(raw_data.columns, sorted(classifier.feature_importances_)):\n",
    "    print(name, importance)"
   ]
  },
  {
   "cell_type": "code",
   "execution_count": 71,
   "metadata": {},
   "outputs": [
    {
     "data": {
      "text/plain": [
       "\"glove_dir = 'data/glove.6B'\\n\\nembeddings_index = {}\\nf = open(os.path.join(glove_dir, 'glove.6B.100d.txt'))\\nfor line in f:\\n    values = line.split()\\n    word = values[0]\\n    coefs = np.asarray(values[1:], dtype='float32')\\n    embeddings_index[word] = coefs\\nf.close()\\n\\nprint('Found %s word vectors.' % len(embeddings_index))\""
      ]
     },
     "execution_count": 71,
     "metadata": {},
     "output_type": "execute_result"
    }
   ],
   "source": [
    "'''glove_dir = 'data/glove.6B'\n",
    "\n",
    "embeddings_index = {}\n",
    "f = open(os.path.join(glove_dir, 'glove.6B.100d.txt'))\n",
    "for line in f:\n",
    "    values = line.split()\n",
    "    word = values[0]\n",
    "    coefs = np.asarray(values[1:], dtype='float32')\n",
    "    embeddings_index[word] = coefs\n",
    "f.close()\n",
    "\n",
    "print('Found %s word vectors.' % len(embeddings_index))'''"
   ]
  },
  {
   "cell_type": "code",
   "execution_count": 72,
   "metadata": {},
   "outputs": [
    {
     "data": {
      "text/plain": [
       "'embedding_matrix = np.zeros((n_most_common_words, emb_dim))\\nfor word, i in word_index.items():\\n    if i < n_most_common_words:\\n        embedding_vector = embeddings_index.get(word)\\n        if embedding_vector is not None:\\n            embedding_matrix[i] = embedding_vector'"
      ]
     },
     "execution_count": 72,
     "metadata": {},
     "output_type": "execute_result"
    }
   ],
   "source": [
    "'''embedding_matrix = np.zeros((n_most_common_words, emb_dim))\n",
    "for word, i in word_index.items():\n",
    "    if i < n_most_common_words:\n",
    "        embedding_vector = embeddings_index.get(word)\n",
    "        if embedding_vector is not None:\n",
    "            embedding_matrix[i] = embedding_vector'''"
   ]
  },
  {
   "cell_type": "code",
   "execution_count": 73,
   "metadata": {},
   "outputs": [],
   "source": [
    "epochs = 10\n",
    "batch_size = 128"
   ]
  },
  {
   "cell_type": "code",
   "execution_count": null,
   "metadata": {},
   "outputs": [],
   "source": [
    "l1 = len(lstm_1X)\n",
    "l2 = len(lstm_2X)\n",
    "t1_len = int(l1*0.8)\n",
    "t2_len = int(l2*0.8)\n",
    "train_lstm1 = lstm_1X[:t1_len]\n",
    "train_lstm2 = lstm_2X[:t2_len]\n",
    "test_lstm1 = lstm1X[t1_len:]\n",
    "test_lstm2 = lstm2X[t2_len:]\n",
    "y_train = labels[:t1_len]\n",
    "y_test = labels[t1_len:]"
   ]
  },
  {
   "cell_type": "code",
   "execution_count": 74,
   "metadata": {},
   "outputs": [
    {
     "name": "stdout",
     "output_type": "stream",
     "text": [
      "(31594, 150) (31594, 5)\n"
     ]
    }
   ],
   "source": [
    "model1 = Sequential()\n",
    "model1.add(Embedding(n_most_common_words_1, emb_dim_1, input_length=lstm_1X.shape[1]))\n",
    "model1.add(LSTM(64)\n",
    "model1.add(Dense(1))\n",
    "#model.add(Dense(5, activation='sigmoid'))\n",
    "#model.compile(optimizer='rmsprop', loss='categorical_crossentropy', metrics=['acc'])\n",
    "#print(model.summary())\n",
    "#model.layers[0].set_weights([embedding_matrix])\n",
    "#model.layers[0].trainable = False\n",
    "#history = model.fit(X_train, y_train, epochs=epochs, batch_size=batch_size,validation_split=0.2,callbacks=[EarlyStopping(monitor='val_loss', min_delta=0.0001)])"
   ]
  },
  {
   "cell_type": "code",
   "execution_count": null,
   "metadata": {},
   "outputs": [],
   "source": []
  },
  {
   "cell_type": "code",
   "execution_count": 75,
   "metadata": {},
   "outputs": [
    {
     "name": "stdout",
     "output_type": "stream",
     "text": [
      "(31594, 150) (31594, 5)\n"
     ]
    },
    {
     "name": "stderr",
     "output_type": "stream",
     "text": [
      "/Users/peternagy/anaconda/lib/python3.6/site-packages/ipykernel_launcher.py:8: UserWarning: The `Merge` layer is deprecated and will be removed after 08/2017. Use instead layers from `keras.layers.merge`, e.g. `add`, `concatenate`, etc.\n",
      "  \n"
     ]
    },
    {
     "name": "stdout",
     "output_type": "stream",
     "text": [
      "_________________________________________________________________\n",
      "Layer (type)                 Output Shape              Param #   \n",
      "=================================================================\n",
      "merge_11 (Merge)             (None, 128)               0         \n",
      "_________________________________________________________________\n",
      "dense_14 (Dense)             (None, 5)                 645       \n",
      "=================================================================\n",
      "Total params: 785,125\n",
      "Trainable params: 785,125\n",
      "Non-trainable params: 0\n",
      "_________________________________________________________________\n",
      "None\n",
      "Train on 25275 samples, validate on 6319 samples\n",
      "Epoch 1/10\n",
      "25275/25275 [==============================] - 111s - loss: 1.6077 - acc: 0.2193 - val_loss: 1.6065 - val_acc: 0.2235\n",
      "Epoch 2/10\n",
      "25275/25275 [==============================] - 102s - loss: 1.5849 - acc: 0.2698 - val_loss: 1.6158 - val_acc: 0.2273\n"
     ]
    }
   ],
   "source": [
    "model2 = Sequential()\n",
    "model2.add(Embedding(n_most_common_words_2, emb_dim_2, input_length=lstm_2X.shape[1]))\n",
    "model2.add(LSTM(64))\n",
    "model2.add(Dense(1))\n",
    "\n",
    "model3 = Sequential()\n",
    "model3.add(Merge([model1, model2], mode=\"concat\"))\n",
    "model3.add(Dense(5, activation='sigmoid'))\n",
    "model3.compile(optimizer='rmsprop', loss='categorical_crossentropy', metrics=['acc'])\n",
    "print(model3.summary())\n",
    "history = model3.fit([train_lstm1, train_lstm2], y_train, epochs=epochs, batch_size=batch_size,validation_split=0.2,callbacks=[EarlyStopping(monitor='val_loss', min_delta=0.0001)])\n",
    "\n",
    "score = model.evaluate(np.array(test_lstm1), y_test, batch_size=batch_size)\n",
    "print('Test set\\n  Loss: {:0.3f}\\n  Accuracy: {:0.3f}'.format(score[0],score[1]))"
   ]
  },
  {
   "cell_type": "code",
   "execution_count": 76,
   "metadata": {},
   "outputs": [
    {
     "data": {
      "image/png": "[encoded data removed]",
      "text/plain": [
       "<matplotlib.figure.Figure at 0x118c21a58>"
      ]
     },
     "metadata": {},
     "output_type": "display_data"
    },
    {
     "data": {
      "image/png": "[encoded data removed]",
      "text/plain": [
       "<matplotlib.figure.Figure at 0x14bad2128>"
      ]
     },
     "metadata": {},
     "output_type": "display_data"
    }
   ],
   "source": [
    "import matplotlib.pyplot as plt\n",
    "\n",
    "acc = history.history['acc']\n",
    "val_acc = history.history['val_acc']\n",
    "loss = history.history['loss']\n",
    "val_loss = history.history['val_loss']\n",
    "\n",
    "epochs = range(1, len(acc) + 1)\n",
    "\n",
    "plt.plot(epochs, acc, 'bo', label='Training acc')\n",
    "plt.plot(epochs, val_acc, 'b', label='Validation acc')\n",
    "plt.title('Training and validation accuracy')\n",
    "plt.legend()\n",
    "\n",
    "plt.figure()\n",
    "\n",
    "plt.plot(epochs, loss, 'bo', label='Training loss')\n",
    "plt.plot(epochs, val_loss, 'b', label='Validation loss')\n",
    "plt.title('Training and validation loss')\n",
    "plt.legend()\n",
    "\n",
    "plt.show()"
   ]
  },
  {
   "cell_type": "code",
   "execution_count": 47,
   "metadata": {},
   "outputs": [
    {
     "name": "stdout",
     "output_type": "stream",
     "text": [
      "Train on 25275 samples, validate on 6319 samples\n",
      "Epoch 1/30\n",
      "25275/25275 [==============================] - 0s - loss: 1.6138 - acc: 0.1977 - val_loss: 1.6107 - val_acc: 0.2182\n",
      "Epoch 2/30\n",
      "25275/25275 [==============================] - 0s - loss: 1.6119 - acc: 0.2016 - val_loss: 1.6092 - val_acc: 0.2211\n",
      "Epoch 3/30\n",
      "25275/25275 [==============================] - 0s - loss: 1.6099 - acc: 0.2142 - val_loss: 1.6080 - val_acc: 0.2214\n",
      "Epoch 4/30\n",
      "25275/25275 [==============================] - 0s - loss: 1.6090 - acc: 0.2171 - val_loss: 1.6071 - val_acc: 0.2223\n",
      "Epoch 5/30\n",
      "25275/25275 [==============================] - 0s - loss: 1.6082 - acc: 0.2208 - val_loss: 1.6063 - val_acc: 0.2310\n",
      "Epoch 6/30\n",
      "25275/25275 [==============================] - 0s - loss: 1.6075 - acc: 0.2256 - val_loss: 1.6055 - val_acc: 0.2453\n",
      "Epoch 7/30\n",
      "25275/25275 [==============================] - 0s - loss: 1.6066 - acc: 0.2299 - val_loss: 1.6047 - val_acc: 0.2458\n",
      "Epoch 8/30\n",
      "25275/25275 [==============================] - 0s - loss: 1.6056 - acc: 0.2338 - val_loss: 1.6040 - val_acc: 0.2467\n",
      "Epoch 9/30\n",
      "25275/25275 [==============================] - 0s - loss: 1.6056 - acc: 0.2349 - val_loss: 1.6033 - val_acc: 0.2467\n",
      "Epoch 10/30\n",
      "25275/25275 [==============================] - 0s - loss: 1.6042 - acc: 0.2350 - val_loss: 1.6025 - val_acc: 0.2480\n",
      "Epoch 11/30\n",
      "25275/25275 [==============================] - 0s - loss: 1.6044 - acc: 0.2372 - val_loss: 1.6018 - val_acc: 0.2483\n",
      "Epoch 12/30\n",
      "25275/25275 [==============================] - 0s - loss: 1.6032 - acc: 0.2351 - val_loss: 1.6009 - val_acc: 0.2472\n",
      "Epoch 13/30\n",
      "25275/25275 [==============================] - 0s - loss: 1.6027 - acc: 0.2366 - val_loss: 1.6001 - val_acc: 0.2458\n",
      "Epoch 14/30\n",
      "25275/25275 [==============================] - 0s - loss: 1.6016 - acc: 0.2376 - val_loss: 1.5993 - val_acc: 0.2458\n",
      "Epoch 15/30\n",
      "25275/25275 [==============================] - 0s - loss: 1.6011 - acc: 0.2380 - val_loss: 1.5985 - val_acc: 0.2459\n",
      "Epoch 16/30\n",
      "25275/25275 [==============================] - 0s - loss: 1.6004 - acc: 0.2383 - val_loss: 1.5977 - val_acc: 0.2455\n",
      "Epoch 17/30\n",
      "25275/25275 [==============================] - 0s - loss: 1.5998 - acc: 0.2392 - val_loss: 1.5970 - val_acc: 0.2462\n",
      "Epoch 18/30\n",
      "25275/25275 [==============================] - 0s - loss: 1.5988 - acc: 0.2404 - val_loss: 1.5963 - val_acc: 0.2458\n",
      "Epoch 19/30\n",
      "25275/25275 [==============================] - 0s - loss: 1.5982 - acc: 0.2420 - val_loss: 1.5955 - val_acc: 0.2455\n",
      "Epoch 20/30\n",
      "25275/25275 [==============================] - 0s - loss: 1.5990 - acc: 0.2400 - val_loss: 1.5951 - val_acc: 0.2461\n",
      "Epoch 21/30\n",
      "25275/25275 [==============================] - 0s - loss: 1.5974 - acc: 0.2405 - val_loss: 1.5944 - val_acc: 0.2481\n",
      "Epoch 22/30\n",
      "25275/25275 [==============================] - 0s - loss: 1.5975 - acc: 0.2418 - val_loss: 1.5939 - val_acc: 0.2477\n",
      "Epoch 23/30\n",
      "25275/25275 [==============================] - 0s - loss: 1.5964 - acc: 0.2436 - val_loss: 1.5934 - val_acc: 0.2483\n",
      "Epoch 24/30\n",
      "25275/25275 [==============================] - 0s - loss: 1.5965 - acc: 0.2430 - val_loss: 1.5930 - val_acc: 0.2480\n",
      "Epoch 25/30\n",
      "25275/25275 [==============================] - 0s - loss: 1.5965 - acc: 0.2425 - val_loss: 1.5926 - val_acc: 0.2486\n",
      "Epoch 26/30\n",
      "25275/25275 [==============================] - 0s - loss: 1.5955 - acc: 0.2425 - val_loss: 1.5923 - val_acc: 0.2492\n",
      "Epoch 27/30\n",
      "25275/25275 [==============================] - 0s - loss: 1.5957 - acc: 0.2452 - val_loss: 1.5919 - val_acc: 0.2502\n",
      "Epoch 28/30\n",
      "25275/25275 [==============================] - 0s - loss: 1.5961 - acc: 0.2416 - val_loss: 1.5917 - val_acc: 0.2502\n",
      "Epoch 29/30\n",
      "25275/25275 [==============================] - 0s - loss: 1.5952 - acc: 0.2445 - val_loss: 1.5915 - val_acc: 0.2502\n",
      "Epoch 30/30\n",
      "25275/25275 [==============================] - 0s - loss: 1.5952 - acc: 0.2439 - val_loss: 1.5915 - val_acc: 0.2499\n",
      " 128/7899 [..............................] - ETA: 0sTest set\n",
      "  Loss: 1.591\n",
      "  Accuracy: 0.250\n"
     ]
    }
   ],
   "source": [
    "raw_data = raw_data.reindex()\n",
    "X_train, X_test, y_train, y_test = train_test_split(raw_data, labels, test_size=0.2, random_state=42)\n",
    "\n",
    "model = Sequential()\n",
    "model.add(Dense(128, activation='relu', input_dim=X_train.shape[1]))\n",
    "model.add(Dropout(0.5))\n",
    "model.add(Dense(128, activation='relu'))\n",
    "model.add(Dropout(0.5))\n",
    "model.add(Dense(5, activation='sigmoid'))\n",
    "\n",
    "sgd = SGD(lr=0.01, decay=1e-5, momentum=0.5, nesterov=False)\n",
    "model.compile(loss='categorical_crossentropy',\n",
    "              optimizer=sgd,\n",
    "              metrics=['accuracy'])\n",
    "\n",
    "model.fit(np.array(X_train), y_train, epochs=30, batch_size=128,validation_split=0.2,callbacks=[EarlyStopping(monitor='val_loss', min_delta=0.0001)])\n",
    "score = model.evaluate(np.array(X_test), y_test, batch_size=128)\n",
    "print('Test set\\n  Loss: {:0.3f}\\n  Accuracy: {:0.3f}'.format(score[0],score[1]))"
   ]
  },
  {
   "cell_type": "code",
   "execution_count": null,
   "metadata": {},
   "outputs": [],
   "source": []
  },
  {
   "cell_type": "code",
   "execution_count": null,
   "metadata": {},
   "outputs": [],
   "source": [
    "import matplotlib.pyplot as plt\n",
    "\n",
    "acc = history.history['acc']\n",
    "val_acc = history.history['val_acc']\n",
    "loss = history.history['loss']\n",
    "val_loss = history.history['val_loss']\n",
    "\n",
    "epochs = range(1, len(acc) + 1)\n",
    "\n",
    "plt.plot(epochs, acc, 'bo', label='Training acc')\n",
    "plt.plot(epochs, val_acc, 'b', label='Validation acc')\n",
    "plt.title('Training and validation accuracy')\n",
    "plt.legend()\n",
    "\n",
    "plt.figure()\n",
    "\n",
    "plt.plot(epochs, loss, 'bo', label='Training loss')\n",
    "plt.plot(epochs, val_loss, 'b', label='Validation loss')\n",
    "plt.title('Training and validation loss')\n",
    "plt.legend()\n",
    "\n",
    "plt.show()"
   ]
  },
  {
   "cell_type": "code",
   "execution_count": null,
   "metadata": {},
   "outputs": [],
   "source": []
  },
  {
   "cell_type": "code",
   "execution_count": null,
   "metadata": {},
   "outputs": [],
   "source": []
  },
  {
   "cell_type": "code",
   "execution_count": null,
   "metadata": {},
   "outputs": [],
   "source": []
  }
 ],
 "metadata": {
  "kernelspec": {
   "display_name": "Python 3",
   "language": "python",
   "name": "python3"
  },
  "language_info": {
   "codemirror_mode": {
    "name": "ipython",
    "version": 3
   },
   "file_extension": ".py",
   "mimetype": "text/x-python",
   "name": "python",
   "nbconvert_exporter": "python",
   "pygments_lexer": "ipython3",
   "version": "3.6.4"
  }
 },
 "nbformat": 4,
 "nbformat_minor": 2
}
