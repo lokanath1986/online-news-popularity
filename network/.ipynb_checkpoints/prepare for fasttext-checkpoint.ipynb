{
 "cells": [
  {
   "cell_type": "code",
   "execution_count": 25,
   "metadata": {},
   "outputs": [],
   "source": [
    "import numpy as np\n",
    "import pandas as pd\n",
    "from sklearn.model_selection import train_test_split"
   ]
  },
  {
   "cell_type": "code",
   "execution_count": 10,
   "metadata": {},
   "outputs": [],
   "source": [
    "cols = ['url', ' title_sentiment_polarity', ' n_tokens_title', ' data_channel_is_lifestyle', ' data_channel_is_entertainment', ' data_channel_is_bus', ' data_channel_is_socmed', ' data_channel_is_tech', ' data_channel_is_world', ' weekday_is_monday', ' weekday_is_tuesday', ' weekday_is_wednesday', ' weekday_is_thursday', ' weekday_is_friday', ' weekday_is_saturday', ' weekday_is_sunday', ' is_weekend', ' global_sentiment_polarity', ' shares']\n",
    "cols2= ['url', ' shares',' rate_positive_words',' rate_negative_words',' title_subjectivity',' title_sentiment_polarity',' abs_title_subjectivity',' abs_title_sentiment_polarity',' is_weekend']\n",
    "raw_data = pd.read_csv('data/OnlineNewsPopularity.csv', usecols=cols2)\n",
    "content_data = pd.read_csv('data/content.csv')"
   ]
  },
  {
   "cell_type": "code",
   "execution_count": 11,
   "metadata": {},
   "outputs": [],
   "source": [
    "def makeHTTP(url):\n",
    "    return url.replace('https', 'http').replace('\\n','')\n",
    "\n",
    "content_data['url'] = content_data['url'].apply(makeHTTP)"
   ]
  },
  {
   "cell_type": "code",
   "execution_count": 12,
   "metadata": {},
   "outputs": [],
   "source": [
    "raw_data = raw_data.merge(content_data, on='url')\n",
    "raw_data.drop('Unnamed: 0', axis=1, inplace=True)"
   ]
  },
  {
   "cell_type": "code",
   "execution_count": 13,
   "metadata": {},
   "outputs": [],
   "source": [
    "def parseUrl(url):\n",
    "    if url == \"\":\n",
    "        return np.nan\n",
    "    parts = url.split('/')\n",
    "    title_parts = parts[-2].split('-')\n",
    "    return ' '.join(title_parts)"
   ]
  },
  {
   "cell_type": "code",
   "execution_count": 14,
   "metadata": {},
   "outputs": [],
   "source": [
    "raw_data['title'] = raw_data.url.apply(parseUrl)"
   ]
  },
  {
   "cell_type": "code",
   "execution_count": 15,
   "metadata": {},
   "outputs": [],
   "source": [
    "def categorizeShares(shares):\n",
    "    if shares <= 900:\n",
    "        return 'FEW'        #few\n",
    "    if shares <= 1200:\n",
    "        return 'MODEST'        #modest\n",
    "    if shares <= 1800:\n",
    "        return 'LOT'        #lot\n",
    "    if shares <= 3500:\n",
    "        return 'POPULAR'       #popular\n",
    "    return 'WORLDWIDE'           #worldwide"
   ]
  },
  {
   "cell_type": "code",
   "execution_count": 16,
   "metadata": {},
   "outputs": [
    {
     "data": {
      "text/plain": [
       "FEW          8668\n",
       "MODEST       8014\n",
       "LOT          7663\n",
       "POPULAR      7620\n",
       "WORLDWIDE    7528\n",
       "Name: label, dtype: int64"
      ]
     },
     "execution_count": 16,
     "metadata": {},
     "output_type": "execute_result"
    }
   ],
   "source": [
    "raw_data['label'] = raw_data[' shares'].apply(categorizeShares)\n",
    "raw_data['label'].value_counts()"
   ]
  },
  {
   "cell_type": "code",
   "execution_count": 26,
   "metadata": {},
   "outputs": [
    {
     "data": {
      "text/plain": [
       "(31594, 7899)"
      ]
     },
     "execution_count": 26,
     "metadata": {},
     "output_type": "execute_result"
    }
   ],
   "source": [
    "l = len(raw_data)\n",
    "len_train = int(l*0.8)\n",
    "train = raw_data[:len_train]\n",
    "test = raw_data[len_train:]\n",
    "len(train), len(test)"
   ]
  },
  {
   "cell_type": "code",
   "execution_count": 27,
   "metadata": {},
   "outputs": [],
   "source": [
    "def just_title(df, fn):\n",
    "    with open(fn, \"w\") as text_file:\n",
    "        for row in df.itertuples():\n",
    "            text_file.write('__label__'+getattr(row, \"label\")+ ' '+getattr(row, \"title\")+'\\n')"
   ]
  },
  {
   "cell_type": "code",
   "execution_count": 28,
   "metadata": {},
   "outputs": [],
   "source": [
    "just_title(train, 'train.txt')\n",
    "just_title(test, 'test.txt')"
   ]
  },
  {
   "cell_type": "code",
   "execution_count": null,
   "metadata": {},
   "outputs": [],
   "source": [
    "def just_content(df, fn):\n",
    "    with open(fn, \"w\") as text_file:\n",
    "        for row in df.itertuples():\n",
    "            text_file.write('__label__'+getattr(row, \"label\")+ ' '+getattr(row, \"title\")+'\\n')"
   ]
  }
 ],
 "metadata": {
  "kernelspec": {
   "display_name": "Python 3",
   "language": "python",
   "name": "python3"
  },
  "language_info": {
   "codemirror_mode": {
    "name": "ipython",
    "version": 3
   },
   "file_extension": ".py",
   "mimetype": "text/x-python",
   "name": "python",
   "nbconvert_exporter": "python",
   "pygments_lexer": "ipython3",
   "version": "3.6.4"
  }
 },
 "nbformat": 4,
 "nbformat_minor": 2
}
